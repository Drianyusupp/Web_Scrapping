{
  "nbformat": 4,
  "nbformat_minor": 0,
  "metadata": {
    "colab": {
      "provenance": [],
      "authorship_tag": "ABX9TyPn0LfB0qLGX6LlJuEPlk7c",
      "include_colab_link": true
    },
    "kernelspec": {
      "name": "python3",
      "display_name": "Python 3"
    },
    "language_info": {
      "name": "python"
    }
  },
  "cells": [
    {
      "cell_type": "markdown",
      "metadata": {
        "id": "view-in-github",
        "colab_type": "text"
      },
      "source": [
        "<a href=\"https://colab.research.google.com/github/Drianyusupp/Web_Scrapping/blob/main/Latihan_WebScrapping_COVID19.ipynb\" target=\"_parent\"><img src=\"https://colab.research.google.com/assets/colab-badge.svg\" alt=\"Open In Colab\"/></a>"
      ]
    },
    {
      "cell_type": "code",
      "source": [
        "pip install requests"
      ],
      "metadata": {
        "colab": {
          "base_uri": "https://localhost:8080/"
        },
        "id": "vjXJXrEhfpV4",
        "outputId": "2ab0dd67-dc4b-4904-a5c0-95d94de55ac4"
      },
      "execution_count": null,
      "outputs": [
        {
          "output_type": "stream",
          "name": "stdout",
          "text": [
            "Requirement already satisfied: requests in /usr/local/lib/python3.10/dist-packages (2.31.0)\n",
            "Requirement already satisfied: charset-normalizer<4,>=2 in /usr/local/lib/python3.10/dist-packages (from requests) (3.2.0)\n",
            "Requirement already satisfied: idna<4,>=2.5 in /usr/local/lib/python3.10/dist-packages (from requests) (3.4)\n",
            "Requirement already satisfied: urllib3<3,>=1.21.1 in /usr/local/lib/python3.10/dist-packages (from requests) (2.0.4)\n",
            "Requirement already satisfied: certifi>=2017.4.17 in /usr/local/lib/python3.10/dist-packages (from requests) (2023.7.22)\n"
          ]
        }
      ]
    },
    {
      "cell_type": "code",
      "source": [
        "pip install beautifulsoup4"
      ],
      "metadata": {
        "colab": {
          "base_uri": "https://localhost:8080/"
        },
        "id": "6uEZGkszfwxp",
        "outputId": "7fe430d1-445a-4790-f7ca-7fb9c62b841c"
      },
      "execution_count": null,
      "outputs": [
        {
          "output_type": "stream",
          "name": "stdout",
          "text": [
            "Requirement already satisfied: beautifulsoup4 in /usr/local/lib/python3.10/dist-packages (4.11.2)\n",
            "Requirement already satisfied: soupsieve>1.2 in /usr/local/lib/python3.10/dist-packages (from beautifulsoup4) (2.5)\n"
          ]
        }
      ]
    },
    {
      "cell_type": "code",
      "source": [
        "import requests     # library untuk URL\n",
        "from bs4 import BeautifulSoup   # library untuk scrapping web\n",
        "from csv import writer    # library untuk membuat file CSV"
      ],
      "metadata": {
        "id": "NsAGZqhUf3Hp"
      },
      "execution_count": null,
      "outputs": []
    },
    {
      "cell_type": "code",
      "source": [
        "\n",
        "\n",
        "url = requests.get(\"https://www.worldometers.info/coronavirus/country/indonesia\")\n",
        "\n",
        "scrapweb = BeautifulSoup(url.content, 'html.parser')\n",
        "find_data = scrapweb.find_all(id=\"maincounter-wrap\")\n",
        "\n",
        "for x in find_data:\n",
        "  print(x.text)"
      ],
      "metadata": {
        "colab": {
          "base_uri": "https://localhost:8080/"
        },
        "id": "rf7IiW24f9na",
        "outputId": "0a440f65-a8de-4ca7-fc79-0234cfa935a5"
      },
      "execution_count": null,
      "outputs": [
        {
          "output_type": "stream",
          "name": "stdout",
          "text": [
            "\n",
            "Coronavirus Cases:\n",
            "\n",
            "6,813,378        \n",
            "\n",
            "\n",
            "\n",
            "Deaths:\n",
            "\n",
            "161,918\n",
            "\n",
            "\n",
            "\n",
            "Recovered:\n",
            "\n",
            "6,646,676\n",
            "\n",
            "\n",
            "\n",
            "Daily Cases Graph - Daily Deaths Graph\n",
            "\n"
          ]
        }
      ]
    },
    {
      "cell_type": "code",
      "source": [],
      "metadata": {
        "id": "ERMSUQzkgZG6"
      },
      "execution_count": null,
      "outputs": []
    }
  ]
}